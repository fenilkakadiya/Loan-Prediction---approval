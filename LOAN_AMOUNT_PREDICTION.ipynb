{
 "cells": [
  {
   "cell_type": "code",
   "execution_count": 1,
   "id": "7c3033cf",
   "metadata": {},
   "outputs": [],
   "source": [
    "import numpy as np\n",
    "import pandas as pd\n",
    "import seaborn as sb\n",
    "from sklearn.model_selection import train_test_split\n",
    "from sklearn import svm\n",
    "from sklearn.metrics import accuracy_score\n",
    "import matplotlib.pyplot as plt\n",
    "import seaborn as sns\n",
    "from sklearn.preprocessing import OneHotEncoder\n",
    "from sklearn.compose import ColumnTransformer"
   ]
  },
  {
   "cell_type": "code",
   "execution_count": 2,
   "id": "b0746527",
   "metadata": {},
   "outputs": [],
   "source": [
    "# loading the dataset to pandas Dataform\n",
    "loan_dataset = pd.read_csv('train.csv')"
   ]
  },
  {
   "cell_type": "code",
   "execution_count": 3,
   "id": "9956ddff",
   "metadata": {},
   "outputs": [
    {
     "data": {
      "text/html": [
       "<div>\n",
       "<style scoped>\n",
       "    .dataframe tbody tr th:only-of-type {\n",
       "        vertical-align: middle;\n",
       "    }\n",
       "\n",
       "    .dataframe tbody tr th {\n",
       "        vertical-align: top;\n",
       "    }\n",
       "\n",
       "    .dataframe thead th {\n",
       "        text-align: right;\n",
       "    }\n",
       "</style>\n",
       "<table border=\"1\" class=\"dataframe\">\n",
       "  <thead>\n",
       "    <tr style=\"text-align: right;\">\n",
       "      <th></th>\n",
       "      <th>ApplicantIncome</th>\n",
       "      <th>CoapplicantIncome</th>\n",
       "      <th>LoanAmount</th>\n",
       "      <th>Loan_Amount_Term</th>\n",
       "      <th>Credit_History</th>\n",
       "    </tr>\n",
       "  </thead>\n",
       "  <tbody>\n",
       "    <tr>\n",
       "      <th>count</th>\n",
       "      <td>614.000000</td>\n",
       "      <td>614.000000</td>\n",
       "      <td>592.000000</td>\n",
       "      <td>600.00000</td>\n",
       "      <td>564.000000</td>\n",
       "    </tr>\n",
       "    <tr>\n",
       "      <th>mean</th>\n",
       "      <td>5403.459283</td>\n",
       "      <td>1621.245798</td>\n",
       "      <td>146.412162</td>\n",
       "      <td>342.00000</td>\n",
       "      <td>0.842199</td>\n",
       "    </tr>\n",
       "    <tr>\n",
       "      <th>std</th>\n",
       "      <td>6109.041673</td>\n",
       "      <td>2926.248369</td>\n",
       "      <td>85.587325</td>\n",
       "      <td>65.12041</td>\n",
       "      <td>0.364878</td>\n",
       "    </tr>\n",
       "    <tr>\n",
       "      <th>min</th>\n",
       "      <td>150.000000</td>\n",
       "      <td>0.000000</td>\n",
       "      <td>9.000000</td>\n",
       "      <td>12.00000</td>\n",
       "      <td>0.000000</td>\n",
       "    </tr>\n",
       "    <tr>\n",
       "      <th>25%</th>\n",
       "      <td>2877.500000</td>\n",
       "      <td>0.000000</td>\n",
       "      <td>100.000000</td>\n",
       "      <td>360.00000</td>\n",
       "      <td>1.000000</td>\n",
       "    </tr>\n",
       "    <tr>\n",
       "      <th>50%</th>\n",
       "      <td>3812.500000</td>\n",
       "      <td>1188.500000</td>\n",
       "      <td>128.000000</td>\n",
       "      <td>360.00000</td>\n",
       "      <td>1.000000</td>\n",
       "    </tr>\n",
       "    <tr>\n",
       "      <th>75%</th>\n",
       "      <td>5795.000000</td>\n",
       "      <td>2297.250000</td>\n",
       "      <td>168.000000</td>\n",
       "      <td>360.00000</td>\n",
       "      <td>1.000000</td>\n",
       "    </tr>\n",
       "    <tr>\n",
       "      <th>max</th>\n",
       "      <td>81000.000000</td>\n",
       "      <td>41667.000000</td>\n",
       "      <td>700.000000</td>\n",
       "      <td>480.00000</td>\n",
       "      <td>1.000000</td>\n",
       "    </tr>\n",
       "  </tbody>\n",
       "</table>\n",
       "</div>"
      ],
      "text/plain": [
       "       ApplicantIncome  CoapplicantIncome  LoanAmount  Loan_Amount_Term  \\\n",
       "count       614.000000         614.000000  592.000000         600.00000   \n",
       "mean       5403.459283        1621.245798  146.412162         342.00000   \n",
       "std        6109.041673        2926.248369   85.587325          65.12041   \n",
       "min         150.000000           0.000000    9.000000          12.00000   \n",
       "25%        2877.500000           0.000000  100.000000         360.00000   \n",
       "50%        3812.500000        1188.500000  128.000000         360.00000   \n",
       "75%        5795.000000        2297.250000  168.000000         360.00000   \n",
       "max       81000.000000       41667.000000  700.000000         480.00000   \n",
       "\n",
       "       Credit_History  \n",
       "count      564.000000  \n",
       "mean         0.842199  \n",
       "std          0.364878  \n",
       "min          0.000000  \n",
       "25%          1.000000  \n",
       "50%          1.000000  \n",
       "75%          1.000000  \n",
       "max          1.000000  "
      ]
     },
     "execution_count": 3,
     "metadata": {},
     "output_type": "execute_result"
    }
   ],
   "source": [
    "loan_dataset.describe() "
   ]
  },
  {
   "cell_type": "code",
   "execution_count": 4,
   "id": "79f2f46b",
   "metadata": {},
   "outputs": [
    {
     "data": {
      "text/plain": [
       "Loan_ID               0\n",
       "Gender               13\n",
       "Married               3\n",
       "Dependents           15\n",
       "Education             0\n",
       "Self_Employed        32\n",
       "ApplicantIncome       0\n",
       "CoapplicantIncome     0\n",
       "LoanAmount           22\n",
       "Loan_Amount_Term     14\n",
       "Credit_History       50\n",
       "Property_Area         0\n",
       "Loan_Status           0\n",
       "dtype: int64"
      ]
     },
     "execution_count": 4,
     "metadata": {},
     "output_type": "execute_result"
    }
   ],
   "source": [
    "# number of missing values in each column\n",
    "loan_dataset.isnull().sum()"
   ]
  },
  {
   "cell_type": "code",
   "execution_count": 5,
   "id": "857eb612",
   "metadata": {},
   "outputs": [],
   "source": [
    "# deleting the missing values\n",
    "loan_dataset = loan_dataset.dropna()"
   ]
  },
  {
   "cell_type": "code",
   "execution_count": 6,
   "id": "cea74212",
   "metadata": {},
   "outputs": [
    {
     "data": {
      "text/plain": [
       "Loan_ID              0\n",
       "Gender               0\n",
       "Married              0\n",
       "Dependents           0\n",
       "Education            0\n",
       "Self_Employed        0\n",
       "ApplicantIncome      0\n",
       "CoapplicantIncome    0\n",
       "LoanAmount           0\n",
       "Loan_Amount_Term     0\n",
       "Credit_History       0\n",
       "Property_Area        0\n",
       "Loan_Status          0\n",
       "dtype: int64"
      ]
     },
     "execution_count": 6,
     "metadata": {},
     "output_type": "execute_result"
    }
   ],
   "source": [
    "loan_dataset.isnull().sum()"
   ]
  },
  {
   "cell_type": "code",
   "execution_count": 7,
   "id": "26d3342f",
   "metadata": {},
   "outputs": [],
   "source": [
    "loan_dataset.replace({\"Loan_Status\":{'N':0,'Y':1}},inplace=True)"
   ]
  },
  {
   "cell_type": "code",
   "execution_count": 8,
   "id": "9dd94d05",
   "metadata": {},
   "outputs": [
    {
     "data": {
      "text/plain": [
       "0     274\n",
       "2      85\n",
       "1      80\n",
       "3+     41\n",
       "Name: Dependents, dtype: int64"
      ]
     },
     "execution_count": 8,
     "metadata": {},
     "output_type": "execute_result"
    }
   ],
   "source": [
    "loan_dataset['Dependents'].value_counts()"
   ]
  },
  {
   "cell_type": "code",
   "execution_count": 9,
   "id": "323cefa6",
   "metadata": {},
   "outputs": [],
   "source": [
    "# replacing value,of 3+ to 4\n",
    "loan_dataset = loan_dataset.replace(to_replace = '3+', value=4)"
   ]
  },
  {
   "cell_type": "code",
   "execution_count": 10,
   "id": "cfd745e9",
   "metadata": {},
   "outputs": [
    {
     "data": {
      "text/plain": [
       "0    274\n",
       "2     85\n",
       "1     80\n",
       "4     41\n",
       "Name: Dependents, dtype: int64"
      ]
     },
     "execution_count": 10,
     "metadata": {},
     "output_type": "execute_result"
    }
   ],
   "source": [
    "loan_dataset['Dependents'].value_counts()"
   ]
  },
  {
   "cell_type": "code",
   "execution_count": 11,
   "id": "13914b46",
   "metadata": {},
   "outputs": [],
   "source": [
    "# converting categorical columns to numerical values\n",
    "loan_dataset.replace({'Married':{'No':0,'Yes':1},'Gender':{'Male':1,'Female':0},'Self_Employed':{'Yes':1,'No':0},\n",
    "                      'Property_Area':{'Rural':0,'Semiurban':1,'Urban':2},'Education':{'Graduate':1,'Not Graduate':0}},inplace=True)\n"
   ]
  },
  {
   "cell_type": "code",
   "execution_count": 12,
   "id": "6265c6f9",
   "metadata": {},
   "outputs": [
    {
     "data": {
      "image/png": "[encoded data removed]",
      "text/plain": [
       "<Figure size 800x800 with 2 Axes>"
      ]
     },
     "metadata": {},
     "output_type": "display_data"
    }
   ],
   "source": [
    "#PRINTING HEAT MAP FOR GETTING DEPENDENT VALUE\n",
    "corr_matrix = loan_dataset.corr()\n",
    "fig,ax = plt.subplots(figsize=(8,8))\n",
    "ax = sns.heatmap(corr_matrix,annot=True,lw=0.5,fmt=\".2f\",cmap=\"YlGnBu\")"
   ]
  },
  {
   "cell_type": "code",
   "execution_count": 13,
   "id": "d8502dc0",
   "metadata": {},
   "outputs": [
    {
     "name": "stdout",
     "output_type": "stream",
     "text": [
      "      Loan_ID  Gender  Married Dependents  Education  Self_Employed  \\\n",
      "1    LP001003       1        1          1          1              0   \n",
      "2    LP001005       1        1          0          1              1   \n",
      "3    LP001006       1        1          0          0              0   \n",
      "4    LP001008       1        0          0          1              0   \n",
      "5    LP001011       1        1          2          1              1   \n",
      "..        ...     ...      ...        ...        ...            ...   \n",
      "609  LP002978       0        0          0          1              0   \n",
      "610  LP002979       1        1          4          1              0   \n",
      "611  LP002983       1        1          1          1              0   \n",
      "612  LP002984       1        1          2          1              0   \n",
      "613  LP002990       0        0          0          1              1   \n",
      "\n",
      "     ApplicantIncome  CoapplicantIncome  LoanAmount  Loan_Amount_Term  \\\n",
      "1               4583             1508.0       128.0             360.0   \n",
      "2               3000                0.0        66.0             360.0   \n",
      "3               2583             2358.0       120.0             360.0   \n",
      "4               6000                0.0       141.0             360.0   \n",
      "5               5417             4196.0       267.0             360.0   \n",
      "..               ...                ...         ...               ...   \n",
      "609             2900                0.0        71.0             360.0   \n",
      "610             4106                0.0        40.0             180.0   \n",
      "611             8072              240.0       253.0             360.0   \n",
      "612             7583                0.0       187.0             360.0   \n",
      "613             4583                0.0       133.0             360.0   \n",
      "\n",
      "     Credit_History  Property_Area  Loan_Status  \n",
      "1               1.0              0            0  \n",
      "2               1.0              2            1  \n",
      "3               1.0              2            1  \n",
      "4               1.0              2            1  \n",
      "5               1.0              2            1  \n",
      "..              ...            ...          ...  \n",
      "609             1.0              0            1  \n",
      "610             1.0              0            1  \n",
      "611             1.0              2            1  \n",
      "612             1.0              2            1  \n",
      "613             0.0              1            0  \n",
      "\n",
      "[480 rows x 13 columns]\n"
     ]
    }
   ],
   "source": [
    "print(loan_dataset)"
   ]
  },
  {
   "cell_type": "code",
   "execution_count": 14,
   "id": "ffe6ea2a",
   "metadata": {},
   "outputs": [],
   "source": [
    "#seprating the data and label\n",
    "X = loan_dataset.drop(columns=['Loan_ID','Loan_Status','Credit_History','Property_Area','LoanAmount','Loan_Amount_Term'],axis=1)\n",
    "Y = loan_dataset['LoanAmount']"
   ]
  },
  {
   "cell_type": "code",
   "execution_count": 15,
   "id": "8fca29e6",
   "metadata": {},
   "outputs": [],
   "source": [
    "# #seprating the data and label\n",
    "# X = loan_dataset.drop(columns=['Loan_ID','Loan_Status'],axis=1)\n",
    "# Y = loan_dataset['Loan_Status']"
   ]
  },
  {
   "cell_type": "code",
   "execution_count": 16,
   "id": "25803a1e",
   "metadata": {
    "scrolled": false
   },
   "outputs": [
    {
     "name": "stdout",
     "output_type": "stream",
     "text": [
      "     Gender  Married Dependents  Education  Self_Employed  ApplicantIncome  \\\n",
      "1         1        1          1          1              0             4583   \n",
      "2         1        1          0          1              1             3000   \n",
      "3         1        1          0          0              0             2583   \n",
      "4         1        0          0          1              0             6000   \n",
      "5         1        1          2          1              1             5417   \n",
      "..      ...      ...        ...        ...            ...              ...   \n",
      "609       0        0          0          1              0             2900   \n",
      "610       1        1          4          1              0             4106   \n",
      "611       1        1          1          1              0             8072   \n",
      "612       1        1          2          1              0             7583   \n",
      "613       0        0          0          1              1             4583   \n",
      "\n",
      "     CoapplicantIncome  \n",
      "1               1508.0  \n",
      "2                  0.0  \n",
      "3               2358.0  \n",
      "4                  0.0  \n",
      "5               4196.0  \n",
      "..                 ...  \n",
      "609                0.0  \n",
      "610                0.0  \n",
      "611              240.0  \n",
      "612                0.0  \n",
      "613                0.0  \n",
      "\n",
      "[480 rows x 7 columns]\n",
      "1      128.0\n",
      "2       66.0\n",
      "3      120.0\n",
      "4      141.0\n",
      "5      267.0\n",
      "       ...  \n",
      "609     71.0\n",
      "610     40.0\n",
      "611    253.0\n",
      "612    187.0\n",
      "613    133.0\n",
      "Name: LoanAmount, Length: 480, dtype: float64\n"
     ]
    }
   ],
   "source": [
    "print(X)\n",
    "print(Y)"
   ]
  },
  {
   "cell_type": "code",
   "execution_count": 17,
   "id": "8443139c",
   "metadata": {},
   "outputs": [],
   "source": [
    "X_train,X_test,Y_train,Y_test = train_test_split(X,Y,test_size=0.1)"
   ]
  },
  {
   "cell_type": "code",
   "execution_count": 18,
   "id": "e905e855",
   "metadata": {},
   "outputs": [
    {
     "name": "stdout",
     "output_type": "stream",
     "text": [
      "(480, 7) (432, 7) (48, 7)\n"
     ]
    }
   ],
   "source": [
    "print(X.shape,X_train.shape,X_test.shape)"
   ]
  },
  {
   "cell_type": "markdown",
   "id": "116fbaed",
   "metadata": {},
   "source": [
    "BY MULTIPAL LINERAL REGRATION"
   ]
  },
  {
   "cell_type": "code",
   "execution_count": 20,
   "id": "4c72fdaf",
   "metadata": {},
   "outputs": [],
   "source": [
    "import matplotlib.pyplot as plt\n",
    "import pandas \n",
    "import numpy\n",
    "from scipy import stats\n",
    "import statsmodels.api\n",
    "from sklearn import linear_model\n",
    "from sklearn import datasets\n",
    "import seaborn as sns\n",
    "from sklearn.metrics import mean_squared_error"
   ]
  },
  {
   "cell_type": "code",
   "execution_count": 55,
   "id": "883a88c8",
   "metadata": {},
   "outputs": [
    {
     "name": "stdout",
     "output_type": "stream",
     "text": [
      "     ApplicantIncome  CoapplicantIncome\n",
      "1               4583             1508.0\n",
      "2               3000                0.0\n",
      "3               2583             2358.0\n",
      "4               6000                0.0\n",
      "5               5417             4196.0\n",
      "..               ...                ...\n",
      "609             2900                0.0\n",
      "610             4106                0.0\n",
      "611             8072              240.0\n",
      "612             7583                0.0\n",
      "613             4583                0.0\n",
      "\n",
      "[480 rows x 2 columns]\n",
      "1      128.0\n",
      "2       66.0\n",
      "3      120.0\n",
      "4      141.0\n",
      "5      267.0\n",
      "       ...  \n",
      "609     71.0\n",
      "610     40.0\n",
      "611    253.0\n",
      "612    187.0\n",
      "613    133.0\n",
      "Name: LoanAmount, Length: 480, dtype: float64\n"
     ]
    }
   ],
   "source": [
    "#seprating the data and label\n",
    "X = loan_dataset.drop(columns=['Loan_ID','Loan_Status','Credit_History','Property_Area','LoanAmount','Loan_Amount_Term','Gender',  'Married' ,'Dependents','Education' , 'Self_Employed'],axis=1)\n",
    "Y = loan_dataset['LoanAmount']\n",
    "print(X)\n",
    "print(Y)"
   ]
  },
  {
   "cell_type": "code",
   "execution_count": 56,
   "id": "79ebe893",
   "metadata": {},
   "outputs": [
    {
     "data": {
      "image/png": "[encoded data removed]",
      "text/plain": [
       "<Figure size 640x480 with 1 Axes>"
      ]
     },
     "metadata": {},
     "output_type": "display_data"
    }
   ],
   "source": [
    "#FROM HEAT MAP WE CAN SEE LOAN STATUS HIGHLY DEPENDENT ON CREADIT HISTRY\n",
    "plt.scatter(loan_dataset[\"CoapplicantIncome\"],loan_dataset[\"LoanAmount\"])\n",
    "plt.show()"
   ]
  },
  {
   "cell_type": "code",
   "execution_count": 57,
   "id": "4c62306b",
   "metadata": {},
   "outputs": [
    {
     "data": {
      "image/png": "[encoded data removed]",
      "text/plain": [
       "<Figure size 640x480 with 1 Axes>"
      ]
     },
     "metadata": {},
     "output_type": "display_data"
    }
   ],
   "source": [
    "#FROM HEAT MAP WE CAN SEE LOAN STATUS HIGHLY DEPENDENT ON CREADIT HISTRY\n",
    "plt.scatter(loan_dataset[\"ApplicantIncome\"],loan_dataset[\"LoanAmount\"])\n",
    "plt.show()"
   ]
  },
  {
   "cell_type": "code",
   "execution_count": 61,
   "id": "4aa9af28",
   "metadata": {},
   "outputs": [],
   "source": [
    "x_train,x_test,y_train,y_test = train_test_split(X,Y,test_size=0.1)"
   ]
  },
  {
   "cell_type": "code",
   "execution_count": 62,
   "id": "350b2bf3",
   "metadata": {},
   "outputs": [],
   "source": [
    "linearreg=linear_model.LinearRegression()"
   ]
  },
  {
   "cell_type": "code",
   "execution_count": 63,
   "id": "4c6bc1ae",
   "metadata": {},
   "outputs": [
    {
     "data": {
      "text/plain": [
       "LinearRegression()"
      ]
     },
     "execution_count": 63,
     "metadata": {},
     "output_type": "execute_result"
    }
   ],
   "source": [
    "linearreg.fit(X,Y)"
   ]
  },
  {
   "cell_type": "code",
   "execution_count": 64,
   "id": "bfb54ecc",
   "metadata": {},
   "outputs": [],
   "source": [
    "y_pred=linearreg.predict(X_test)\n"
   ]
  },
  {
   "cell_type": "code",
   "execution_count": 65,
   "id": "1b2e2271",
   "metadata": {},
   "outputs": [
    {
     "name": "stdout",
     "output_type": "stream",
     "text": [
      "Mean Squared Error: 10790.256950538853\n"
     ]
    }
   ],
   "source": [
    "mse = mean_squared_error(Y_test, y_pred)\n",
    "print(\"Mean Squared Error:\", mse)"
   ]
  },
  {
   "cell_type": "markdown",
   "id": "fbc54ed3",
   "metadata": {},
   "source": [
    "By RandomForestRegressor"
   ]
  },
  {
   "cell_type": "code",
   "execution_count": 27,
   "id": "87c9afa6",
   "metadata": {},
   "outputs": [],
   "source": [
    "from sklearn.ensemble import RandomForestRegressor"
   ]
  },
  {
   "cell_type": "code",
   "execution_count": 28,
   "id": "3f00f62f",
   "metadata": {},
   "outputs": [
    {
     "data": {
      "text/plain": [
       "RandomForestRegressor()"
      ]
     },
     "execution_count": 28,
     "metadata": {},
     "output_type": "execute_result"
    }
   ],
   "source": [
    "randforest = RandomForestRegressor()\n",
    "randforest.fit(X_train, Y_train)"
   ]
  },
  {
   "cell_type": "code",
   "execution_count": 29,
   "id": "fb16170e",
   "metadata": {},
   "outputs": [],
   "source": [
    "y1_pred = randforest.predict(X_test)"
   ]
  },
  {
   "cell_type": "code",
   "execution_count": 30,
   "id": "ab87b85b",
   "metadata": {},
   "outputs": [
    {
     "name": "stdout",
     "output_type": "stream",
     "text": [
      "[141.48       162.48       129.87       106.14       161.47\n",
      " 322.06        99.72       123.32       186.75       137.845\n",
      " 161.72       143.16       129.63       239.84       183.48\n",
      "  97.53       144.61        89.5        103.83        93.92\n",
      " 212.78        75.41       165.6        131.16       160.14\n",
      " 100.53        59.02083333 119.12       123.41       137.69\n",
      " 234.44        51.88933333 171.97        77.8        211.48\n",
      "  97.22       161.39       137.94       117.12        95.41\n",
      " 110.72       147.33       153.05        76.74        93.59\n",
      " 125.81        93.02       290.5       ]\n"
     ]
    }
   ],
   "source": [
    "print(y1_pred)"
   ]
  },
  {
   "cell_type": "code",
   "execution_count": 31,
   "id": "6e7ede4b",
   "metadata": {},
   "outputs": [
    {
     "name": "stdout",
     "output_type": "stream",
     "text": [
      "Mean Squared Error: 3463.225125822338\n"
     ]
    }
   ],
   "source": [
    "mse = mean_squared_error(Y_test, y1_pred)\n",
    "print(\"Mean Squared Error:\", mse)"
   ]
  },
  {
   "cell_type": "markdown",
   "id": "04d9e259",
   "metadata": {},
   "source": [
    "BY Decision Tree Regression"
   ]
  },
  {
   "cell_type": "code",
   "execution_count": 32,
   "id": "8b03ab62",
   "metadata": {},
   "outputs": [],
   "source": [
    "from sklearn.tree import DecisionTreeRegressor"
   ]
  },
  {
   "cell_type": "code",
   "execution_count": 33,
   "id": "37819ad3",
   "metadata": {},
   "outputs": [],
   "source": [
    "tree_reg = DecisionTreeRegressor(random_state=42)"
   ]
  },
  {
   "cell_type": "code",
   "execution_count": 34,
   "id": "6e89dc5f",
   "metadata": {},
   "outputs": [
    {
     "data": {
      "text/plain": [
       "DecisionTreeRegressor(random_state=42)"
      ]
     },
     "execution_count": 34,
     "metadata": {},
     "output_type": "execute_result"
    }
   ],
   "source": [
    "tree_reg.fit(X_train, Y_train)"
   ]
  },
  {
   "cell_type": "code",
   "execution_count": 35,
   "id": "f3d816b0",
   "metadata": {},
   "outputs": [],
   "source": [
    "y_pred = tree_reg.predict(X_train)"
   ]
  },
  {
   "cell_type": "code",
   "execution_count": 53,
   "id": "900c1680",
   "metadata": {},
   "outputs": [
    {
     "data": {
      "text/html": [
       "<div>\n",
       "<style scoped>\n",
       "    .dataframe tbody tr th:only-of-type {\n",
       "        vertical-align: middle;\n",
       "    }\n",
       "\n",
       "    .dataframe tbody tr th {\n",
       "        vertical-align: top;\n",
       "    }\n",
       "\n",
       "    .dataframe thead th {\n",
       "        text-align: right;\n",
       "    }\n",
       "</style>\n",
       "<table border=\"1\" class=\"dataframe\">\n",
       "  <thead>\n",
       "    <tr style=\"text-align: right;\">\n",
       "      <th></th>\n",
       "      <th>actual_data</th>\n",
       "      <th>predicted_data</th>\n",
       "    </tr>\n",
       "  </thead>\n",
       "  <tbody>\n",
       "    <tr>\n",
       "      <th>257</th>\n",
       "      <td>94.0</td>\n",
       "      <td>156.575447</td>\n",
       "    </tr>\n",
       "    <tr>\n",
       "      <th>513</th>\n",
       "      <td>70.0</td>\n",
       "      <td>154.451337</td>\n",
       "    </tr>\n",
       "    <tr>\n",
       "      <th>234</th>\n",
       "      <td>140.0</td>\n",
       "      <td>142.094494</td>\n",
       "    </tr>\n",
       "    <tr>\n",
       "      <th>133</th>\n",
       "      <td>25.0</td>\n",
       "      <td>119.670951</td>\n",
       "    </tr>\n",
       "    <tr>\n",
       "      <th>244</th>\n",
       "      <td>123.0</td>\n",
       "      <td>143.411746</td>\n",
       "    </tr>\n",
       "    <tr>\n",
       "      <th>443</th>\n",
       "      <td>152.0</td>\n",
       "      <td>367.561577</td>\n",
       "    </tr>\n",
       "    <tr>\n",
       "      <th>193</th>\n",
       "      <td>76.0</td>\n",
       "      <td>111.260391</td>\n",
       "    </tr>\n",
       "    <tr>\n",
       "      <th>273</th>\n",
       "      <td>150.0</td>\n",
       "      <td>137.434120</td>\n",
       "    </tr>\n",
       "    <tr>\n",
       "      <th>243</th>\n",
       "      <td>108.0</td>\n",
       "      <td>171.501957</td>\n",
       "    </tr>\n",
       "    <tr>\n",
       "      <th>412</th>\n",
       "      <td>218.0</td>\n",
       "      <td>132.304317</td>\n",
       "    </tr>\n",
       "    <tr>\n",
       "      <th>442</th>\n",
       "      <td>148.0</td>\n",
       "      <td>131.504805</td>\n",
       "    </tr>\n",
       "    <tr>\n",
       "      <th>439</th>\n",
       "      <td>138.0</td>\n",
       "      <td>144.200262</td>\n",
       "    </tr>\n",
       "    <tr>\n",
       "      <th>33</th>\n",
       "      <td>114.0</td>\n",
       "      <td>140.073027</td>\n",
       "    </tr>\n",
       "    <tr>\n",
       "      <th>128</th>\n",
       "      <td>160.0</td>\n",
       "      <td>206.800860</td>\n",
       "    </tr>\n",
       "    <tr>\n",
       "      <th>612</th>\n",
       "      <td>187.0</td>\n",
       "      <td>166.364712</td>\n",
       "    </tr>\n",
       "    <tr>\n",
       "      <th>50</th>\n",
       "      <td>100.0</td>\n",
       "      <td>111.015750</td>\n",
       "    </tr>\n",
       "    <tr>\n",
       "      <th>92</th>\n",
       "      <td>81.0</td>\n",
       "      <td>131.703134</td>\n",
       "    </tr>\n",
       "    <tr>\n",
       "      <th>71</th>\n",
       "      <td>97.0</td>\n",
       "      <td>127.570939</td>\n",
       "    </tr>\n",
       "    <tr>\n",
       "      <th>261</th>\n",
       "      <td>134.0</td>\n",
       "      <td>113.439668</td>\n",
       "    </tr>\n",
       "    <tr>\n",
       "      <th>288</th>\n",
       "      <td>115.0</td>\n",
       "      <td>111.435531</td>\n",
       "    </tr>\n",
       "    <tr>\n",
       "      <th>493</th>\n",
       "      <td>225.0</td>\n",
       "      <td>199.951516</td>\n",
       "    </tr>\n",
       "    <tr>\n",
       "      <th>416</th>\n",
       "      <td>160.0</td>\n",
       "      <td>103.875064</td>\n",
       "    </tr>\n",
       "    <tr>\n",
       "      <th>108</th>\n",
       "      <td>216.0</td>\n",
       "      <td>163.557006</td>\n",
       "    </tr>\n",
       "    <tr>\n",
       "      <th>7</th>\n",
       "      <td>158.0</td>\n",
       "      <td>157.734187</td>\n",
       "    </tr>\n",
       "    <tr>\n",
       "      <th>330</th>\n",
       "      <td>117.0</td>\n",
       "      <td>131.637966</td>\n",
       "    </tr>\n",
       "    <tr>\n",
       "      <th>82</th>\n",
       "      <td>167.0</td>\n",
       "      <td>131.558760</td>\n",
       "    </tr>\n",
       "    <tr>\n",
       "      <th>587</th>\n",
       "      <td>70.0</td>\n",
       "      <td>81.463120</td>\n",
       "    </tr>\n",
       "    <tr>\n",
       "      <th>230</th>\n",
       "      <td>104.0</td>\n",
       "      <td>139.083532</td>\n",
       "    </tr>\n",
       "    <tr>\n",
       "      <th>280</th>\n",
       "      <td>158.0</td>\n",
       "      <td>124.176255</td>\n",
       "    </tr>\n",
       "    <tr>\n",
       "      <th>508</th>\n",
       "      <td>188.0</td>\n",
       "      <td>147.861395</td>\n",
       "    </tr>\n",
       "    <tr>\n",
       "      <th>173</th>\n",
       "      <td>187.0</td>\n",
       "      <td>184.465536</td>\n",
       "    </tr>\n",
       "    <tr>\n",
       "      <th>541</th>\n",
       "      <td>99.0</td>\n",
       "      <td>96.626170</td>\n",
       "    </tr>\n",
       "    <tr>\n",
       "      <th>505</th>\n",
       "      <td>243.0</td>\n",
       "      <td>167.152222</td>\n",
       "    </tr>\n",
       "    <tr>\n",
       "      <th>575</th>\n",
       "      <td>108.0</td>\n",
       "      <td>120.254143</td>\n",
       "    </tr>\n",
       "    <tr>\n",
       "      <th>54</th>\n",
       "      <td>286.0</td>\n",
       "      <td>195.865541</td>\n",
       "    </tr>\n",
       "    <tr>\n",
       "      <th>27</th>\n",
       "      <td>110.0</td>\n",
       "      <td>133.305845</td>\n",
       "    </tr>\n",
       "    <tr>\n",
       "      <th>137</th>\n",
       "      <td>88.0</td>\n",
       "      <td>165.146716</td>\n",
       "    </tr>\n",
       "    <tr>\n",
       "      <th>122</th>\n",
       "      <td>137.0</td>\n",
       "      <td>159.981757</td>\n",
       "    </tr>\n",
       "    <tr>\n",
       "      <th>141</th>\n",
       "      <td>168.0</td>\n",
       "      <td>122.885665</td>\n",
       "    </tr>\n",
       "    <tr>\n",
       "      <th>410</th>\n",
       "      <td>62.0</td>\n",
       "      <td>103.862985</td>\n",
       "    </tr>\n",
       "    <tr>\n",
       "      <th>66</th>\n",
       "      <td>126.0</td>\n",
       "      <td>96.214844</td>\n",
       "    </tr>\n",
       "    <tr>\n",
       "      <th>431</th>\n",
       "      <td>105.0</td>\n",
       "      <td>130.961465</td>\n",
       "    </tr>\n",
       "    <tr>\n",
       "      <th>139</th>\n",
       "      <td>129.0</td>\n",
       "      <td>135.863813</td>\n",
       "    </tr>\n",
       "    <tr>\n",
       "      <th>282</th>\n",
       "      <td>78.0</td>\n",
       "      <td>123.254500</td>\n",
       "    </tr>\n",
       "    <tr>\n",
       "      <th>94</th>\n",
       "      <td>25.0</td>\n",
       "      <td>79.882867</td>\n",
       "    </tr>\n",
       "    <tr>\n",
       "      <th>85</th>\n",
       "      <td>136.0</td>\n",
       "      <td>117.993511</td>\n",
       "    </tr>\n",
       "    <tr>\n",
       "      <th>538</th>\n",
       "      <td>66.0</td>\n",
       "      <td>112.380925</td>\n",
       "    </tr>\n",
       "    <tr>\n",
       "      <th>424</th>\n",
       "      <td>96.0</td>\n",
       "      <td>213.169924</td>\n",
       "    </tr>\n",
       "  </tbody>\n",
       "</table>\n",
       "</div>"
      ],
      "text/plain": [
       "     actual_data  predicted_data\n",
       "257         94.0      156.575447\n",
       "513         70.0      154.451337\n",
       "234        140.0      142.094494\n",
       "133         25.0      119.670951\n",
       "244        123.0      143.411746\n",
       "443        152.0      367.561577\n",
       "193         76.0      111.260391\n",
       "273        150.0      137.434120\n",
       "243        108.0      171.501957\n",
       "412        218.0      132.304317\n",
       "442        148.0      131.504805\n",
       "439        138.0      144.200262\n",
       "33         114.0      140.073027\n",
       "128        160.0      206.800860\n",
       "612        187.0      166.364712\n",
       "50         100.0      111.015750\n",
       "92          81.0      131.703134\n",
       "71          97.0      127.570939\n",
       "261        134.0      113.439668\n",
       "288        115.0      111.435531\n",
       "493        225.0      199.951516\n",
       "416        160.0      103.875064\n",
       "108        216.0      163.557006\n",
       "7          158.0      157.734187\n",
       "330        117.0      131.637966\n",
       "82         167.0      131.558760\n",
       "587         70.0       81.463120\n",
       "230        104.0      139.083532\n",
       "280        158.0      124.176255\n",
       "508        188.0      147.861395\n",
       "173        187.0      184.465536\n",
       "541         99.0       96.626170\n",
       "505        243.0      167.152222\n",
       "575        108.0      120.254143\n",
       "54         286.0      195.865541\n",
       "27         110.0      133.305845\n",
       "137         88.0      165.146716\n",
       "122        137.0      159.981757\n",
       "141        168.0      122.885665\n",
       "410         62.0      103.862985\n",
       "66         126.0       96.214844\n",
       "431        105.0      130.961465\n",
       "139        129.0      135.863813\n",
       "282         78.0      123.254500\n",
       "94          25.0       79.882867\n",
       "85         136.0      117.993511\n",
       "538         66.0      112.380925\n",
       "424         96.0      213.169924"
      ]
     },
     "execution_count": 53,
     "metadata": {},
     "output_type": "execute_result"
    }
   ],
   "source": [
    "treedf= pd.DataFrame({\"actual_data\":Y_test,\"predicted_data\":y_pred})\n",
    "treedf"
   ]
  },
  {
   "cell_type": "code",
   "execution_count": 54,
   "id": "fd71e811",
   "metadata": {},
   "outputs": [
    {
     "data": {
      "image/png": "[encoded data removed]",
      "text/plain": [
       "<Figure size 1000x500 with 1 Axes>"
      ]
     },
     "metadata": {},
     "output_type": "display_data"
    }
   ],
   "source": [
    "predict_vs_actual_data(actual_data='actual_data',predicted_data='predicted_data',dataframe=lassodf)"
   ]
  },
  {
   "cell_type": "code",
   "execution_count": 36,
   "id": "b564baae",
   "metadata": {},
   "outputs": [
    {
     "name": "stdout",
     "output_type": "stream",
     "text": [
      "[155. 100. 145. 155. 187. 260.  67.  95. 187. 115. 185. 128. 116. 188.\n",
      " 205.  96. 150. 113. 115.  71. 125.  56. 142. 126. 140. 113.  66. 137.\n",
      " 140. 160. 175.  66. 176. 100. 136.  87. 150. 103. 136.  67. 110. 118.\n",
      " 158.  45. 110. 136.  87. 304.]\n"
     ]
    }
   ],
   "source": [
    "print(y_pred)"
   ]
  },
  {
   "cell_type": "code",
   "execution_count": 37,
   "id": "2cbbe98f",
   "metadata": {},
   "outputs": [
    {
     "name": "stdout",
     "output_type": "stream",
     "text": [
      "Mean Squared Error: 3922.8333333333335\n"
     ]
    }
   ],
   "source": [
    "mse = mean_squared_error(Y_test, y_pred)\n",
    "print(\"Mean Squared Error:\", mse)"
   ]
  },
  {
   "cell_type": "markdown",
   "id": "42f35430",
   "metadata": {},
   "source": [
    "by Lasso Regression"
   ]
  },
  {
   "cell_type": "code",
   "execution_count": 38,
   "id": "1abac1b1",
   "metadata": {},
   "outputs": [],
   "source": [
    "from sklearn.linear_model import Lasso"
   ]
  },
  {
   "cell_type": "code",
   "execution_count": 39,
   "id": "b134120f",
   "metadata": {},
   "outputs": [
    {
     "data": {
      "text/plain": [
       "Lasso(alpha=0.3)"
      ]
     },
     "execution_count": 39,
     "metadata": {},
     "output_type": "execute_result"
    }
   ],
   "source": [
    "lasso = Lasso(alpha=0.3)\n",
    "lasso.fit(X_train, Y_train)"
   ]
  },
  {
   "cell_type": "code",
   "execution_count": 40,
   "id": "e8a4fb53",
   "metadata": {},
   "outputs": [],
   "source": [
    "y_pred = lasso.predict(X_test)\n"
   ]
  },
  {
   "cell_type": "code",
   "execution_count": 41,
   "id": "e6bece6b",
   "metadata": {},
   "outputs": [
    {
     "name": "stdout",
     "output_type": "stream",
     "text": [
      "[156.57544653 154.45133705 142.09449402 119.67095119 143.41174579\n",
      " 367.56157718 111.26039139 137.43411999 171.50195747 132.30431685\n",
      " 131.50480503 144.20026218 140.07302709 206.8008604  166.36471247\n",
      " 111.01575008 131.70313358 127.57093872 113.43966782 111.43553077\n",
      " 199.95151569 103.87506366 163.55700608 157.73418681 131.63796636\n",
      " 131.55876011  81.46312047 139.08353159 124.17625472 147.86139509\n",
      " 184.46553554  96.62616966 167.15222215 120.25414321 195.86554053\n",
      " 133.30584474 165.14671553 159.98175676 122.88566528 103.86298463\n",
      "  96.21484394 130.96146492 135.86381301 123.25450038  79.88286734\n",
      " 117.99351058 112.38092524 213.16992429]\n"
     ]
    }
   ],
   "source": [
    "print(y_pred)"
   ]
  },
  {
   "cell_type": "code",
   "execution_count": 42,
   "id": "245f14e8",
   "metadata": {},
   "outputs": [
    {
     "name": "stdout",
     "output_type": "stream",
     "text": [
      "Mean Squared Error: 3066.300142608003\n"
     ]
    }
   ],
   "source": [
    "mse = mean_squared_error(Y_test, y_pred)\n",
    "print(\"Mean Squared Error:\", mse)"
   ]
  },
  {
   "cell_type": "code",
   "execution_count": 43,
   "id": "b017117f",
   "metadata": {},
   "outputs": [],
   "source": [
    "def predict_vs_actual_data(actual_data,predicted_data,dataframe,color=\"red\"):2wz\n",
    "    sns.lmplot(x=actual_data, y=predicted_data, data=dataframe, fit_reg=False,height=5,aspect=2)\n",
    "    d_line= np.arange(dataframe.min().min(), dataframe.max().max())\n",
    "    plt.plot(d_line, d_line, color=color, linestyle='--')\n",
    "    plt.show()"
   ]
  },
  {
   "cell_type": "code",
   "execution_count": 46,
   "id": "d53fbeb3",
   "metadata": {},
   "outputs": [
    {
     "data": {
      "text/html": [
       "<div>\n",
       "<style scoped>\n",
       "    .dataframe tbody tr th:only-of-type {\n",
       "        vertical-align: middle;\n",
       "    }\n",
       "\n",
       "    .dataframe tbody tr th {\n",
       "        vertical-align: top;\n",
       "    }\n",
       "\n",
       "    .dataframe thead th {\n",
       "        text-align: right;\n",
       "    }\n",
       "</style>\n",
       "<table border=\"1\" class=\"dataframe\">\n",
       "  <thead>\n",
       "    <tr style=\"text-align: right;\">\n",
       "      <th></th>\n",
       "      <th>actual_data</th>\n",
       "      <th>predicted_data</th>\n",
       "    </tr>\n",
       "  </thead>\n",
       "  <tbody>\n",
       "    <tr>\n",
       "      <th>257</th>\n",
       "      <td>94.0</td>\n",
       "      <td>156.575447</td>\n",
       "    </tr>\n",
       "    <tr>\n",
       "      <th>513</th>\n",
       "      <td>70.0</td>\n",
       "      <td>154.451337</td>\n",
       "    </tr>\n",
       "    <tr>\n",
       "      <th>234</th>\n",
       "      <td>140.0</td>\n",
       "      <td>142.094494</td>\n",
       "    </tr>\n",
       "    <tr>\n",
       "      <th>133</th>\n",
       "      <td>25.0</td>\n",
       "      <td>119.670951</td>\n",
       "    </tr>\n",
       "    <tr>\n",
       "      <th>244</th>\n",
       "      <td>123.0</td>\n",
       "      <td>143.411746</td>\n",
       "    </tr>\n",
       "    <tr>\n",
       "      <th>443</th>\n",
       "      <td>152.0</td>\n",
       "      <td>367.561577</td>\n",
       "    </tr>\n",
       "    <tr>\n",
       "      <th>193</th>\n",
       "      <td>76.0</td>\n",
       "      <td>111.260391</td>\n",
       "    </tr>\n",
       "    <tr>\n",
       "      <th>273</th>\n",
       "      <td>150.0</td>\n",
       "      <td>137.434120</td>\n",
       "    </tr>\n",
       "    <tr>\n",
       "      <th>243</th>\n",
       "      <td>108.0</td>\n",
       "      <td>171.501957</td>\n",
       "    </tr>\n",
       "    <tr>\n",
       "      <th>412</th>\n",
       "      <td>218.0</td>\n",
       "      <td>132.304317</td>\n",
       "    </tr>\n",
       "    <tr>\n",
       "      <th>442</th>\n",
       "      <td>148.0</td>\n",
       "      <td>131.504805</td>\n",
       "    </tr>\n",
       "    <tr>\n",
       "      <th>439</th>\n",
       "      <td>138.0</td>\n",
       "      <td>144.200262</td>\n",
       "    </tr>\n",
       "    <tr>\n",
       "      <th>33</th>\n",
       "      <td>114.0</td>\n",
       "      <td>140.073027</td>\n",
       "    </tr>\n",
       "    <tr>\n",
       "      <th>128</th>\n",
       "      <td>160.0</td>\n",
       "      <td>206.800860</td>\n",
       "    </tr>\n",
       "    <tr>\n",
       "      <th>612</th>\n",
       "      <td>187.0</td>\n",
       "      <td>166.364712</td>\n",
       "    </tr>\n",
       "    <tr>\n",
       "      <th>50</th>\n",
       "      <td>100.0</td>\n",
       "      <td>111.015750</td>\n",
       "    </tr>\n",
       "    <tr>\n",
       "      <th>92</th>\n",
       "      <td>81.0</td>\n",
       "      <td>131.703134</td>\n",
       "    </tr>\n",
       "    <tr>\n",
       "      <th>71</th>\n",
       "      <td>97.0</td>\n",
       "      <td>127.570939</td>\n",
       "    </tr>\n",
       "    <tr>\n",
       "      <th>261</th>\n",
       "      <td>134.0</td>\n",
       "      <td>113.439668</td>\n",
       "    </tr>\n",
       "    <tr>\n",
       "      <th>288</th>\n",
       "      <td>115.0</td>\n",
       "      <td>111.435531</td>\n",
       "    </tr>\n",
       "    <tr>\n",
       "      <th>493</th>\n",
       "      <td>225.0</td>\n",
       "      <td>199.951516</td>\n",
       "    </tr>\n",
       "    <tr>\n",
       "      <th>416</th>\n",
       "      <td>160.0</td>\n",
       "      <td>103.875064</td>\n",
       "    </tr>\n",
       "    <tr>\n",
       "      <th>108</th>\n",
       "      <td>216.0</td>\n",
       "      <td>163.557006</td>\n",
       "    </tr>\n",
       "    <tr>\n",
       "      <th>7</th>\n",
       "      <td>158.0</td>\n",
       "      <td>157.734187</td>\n",
       "    </tr>\n",
       "    <tr>\n",
       "      <th>330</th>\n",
       "      <td>117.0</td>\n",
       "      <td>131.637966</td>\n",
       "    </tr>\n",
       "    <tr>\n",
       "      <th>82</th>\n",
       "      <td>167.0</td>\n",
       "      <td>131.558760</td>\n",
       "    </tr>\n",
       "    <tr>\n",
       "      <th>587</th>\n",
       "      <td>70.0</td>\n",
       "      <td>81.463120</td>\n",
       "    </tr>\n",
       "    <tr>\n",
       "      <th>230</th>\n",
       "      <td>104.0</td>\n",
       "      <td>139.083532</td>\n",
       "    </tr>\n",
       "    <tr>\n",
       "      <th>280</th>\n",
       "      <td>158.0</td>\n",
       "      <td>124.176255</td>\n",
       "    </tr>\n",
       "    <tr>\n",
       "      <th>508</th>\n",
       "      <td>188.0</td>\n",
       "      <td>147.861395</td>\n",
       "    </tr>\n",
       "    <tr>\n",
       "      <th>173</th>\n",
       "      <td>187.0</td>\n",
       "      <td>184.465536</td>\n",
       "    </tr>\n",
       "    <tr>\n",
       "      <th>541</th>\n",
       "      <td>99.0</td>\n",
       "      <td>96.626170</td>\n",
       "    </tr>\n",
       "    <tr>\n",
       "      <th>505</th>\n",
       "      <td>243.0</td>\n",
       "      <td>167.152222</td>\n",
       "    </tr>\n",
       "    <tr>\n",
       "      <th>575</th>\n",
       "      <td>108.0</td>\n",
       "      <td>120.254143</td>\n",
       "    </tr>\n",
       "    <tr>\n",
       "      <th>54</th>\n",
       "      <td>286.0</td>\n",
       "      <td>195.865541</td>\n",
       "    </tr>\n",
       "    <tr>\n",
       "      <th>27</th>\n",
       "      <td>110.0</td>\n",
       "      <td>133.305845</td>\n",
       "    </tr>\n",
       "    <tr>\n",
       "      <th>137</th>\n",
       "      <td>88.0</td>\n",
       "      <td>165.146716</td>\n",
       "    </tr>\n",
       "    <tr>\n",
       "      <th>122</th>\n",
       "      <td>137.0</td>\n",
       "      <td>159.981757</td>\n",
       "    </tr>\n",
       "    <tr>\n",
       "      <th>141</th>\n",
       "      <td>168.0</td>\n",
       "      <td>122.885665</td>\n",
       "    </tr>\n",
       "    <tr>\n",
       "      <th>410</th>\n",
       "      <td>62.0</td>\n",
       "      <td>103.862985</td>\n",
       "    </tr>\n",
       "    <tr>\n",
       "      <th>66</th>\n",
       "      <td>126.0</td>\n",
       "      <td>96.214844</td>\n",
       "    </tr>\n",
       "    <tr>\n",
       "      <th>431</th>\n",
       "      <td>105.0</td>\n",
       "      <td>130.961465</td>\n",
       "    </tr>\n",
       "    <tr>\n",
       "      <th>139</th>\n",
       "      <td>129.0</td>\n",
       "      <td>135.863813</td>\n",
       "    </tr>\n",
       "    <tr>\n",
       "      <th>282</th>\n",
       "      <td>78.0</td>\n",
       "      <td>123.254500</td>\n",
       "    </tr>\n",
       "    <tr>\n",
       "      <th>94</th>\n",
       "      <td>25.0</td>\n",
       "      <td>79.882867</td>\n",
       "    </tr>\n",
       "    <tr>\n",
       "      <th>85</th>\n",
       "      <td>136.0</td>\n",
       "      <td>117.993511</td>\n",
       "    </tr>\n",
       "    <tr>\n",
       "      <th>538</th>\n",
       "      <td>66.0</td>\n",
       "      <td>112.380925</td>\n",
       "    </tr>\n",
       "    <tr>\n",
       "      <th>424</th>\n",
       "      <td>96.0</td>\n",
       "      <td>213.169924</td>\n",
       "    </tr>\n",
       "  </tbody>\n",
       "</table>\n",
       "</div>"
      ],
      "text/plain": [
       "     actual_data  predicted_data\n",
       "257         94.0      156.575447\n",
       "513         70.0      154.451337\n",
       "234        140.0      142.094494\n",
       "133         25.0      119.670951\n",
       "244        123.0      143.411746\n",
       "443        152.0      367.561577\n",
       "193         76.0      111.260391\n",
       "273        150.0      137.434120\n",
       "243        108.0      171.501957\n",
       "412        218.0      132.304317\n",
       "442        148.0      131.504805\n",
       "439        138.0      144.200262\n",
       "33         114.0      140.073027\n",
       "128        160.0      206.800860\n",
       "612        187.0      166.364712\n",
       "50         100.0      111.015750\n",
       "92          81.0      131.703134\n",
       "71          97.0      127.570939\n",
       "261        134.0      113.439668\n",
       "288        115.0      111.435531\n",
       "493        225.0      199.951516\n",
       "416        160.0      103.875064\n",
       "108        216.0      163.557006\n",
       "7          158.0      157.734187\n",
       "330        117.0      131.637966\n",
       "82         167.0      131.558760\n",
       "587         70.0       81.463120\n",
       "230        104.0      139.083532\n",
       "280        158.0      124.176255\n",
       "508        188.0      147.861395\n",
       "173        187.0      184.465536\n",
       "541         99.0       96.626170\n",
       "505        243.0      167.152222\n",
       "575        108.0      120.254143\n",
       "54         286.0      195.865541\n",
       "27         110.0      133.305845\n",
       "137         88.0      165.146716\n",
       "122        137.0      159.981757\n",
       "141        168.0      122.885665\n",
       "410         62.0      103.862985\n",
       "66         126.0       96.214844\n",
       "431        105.0      130.961465\n",
       "139        129.0      135.863813\n",
       "282         78.0      123.254500\n",
       "94          25.0       79.882867\n",
       "85         136.0      117.993511\n",
       "538         66.0      112.380925\n",
       "424         96.0      213.169924"
      ]
     },
     "execution_count": 46,
     "metadata": {},
     "output_type": "execute_result"
    }
   ],
   "source": [
    "lassodf= pd.DataFrame({\"actual_data\":Y_test,\"predicted_data\":y_pred})\n",
    "lassodf"
   ]
  },
  {
   "cell_type": "code",
   "execution_count": 48,
   "id": "873e7ebb",
   "metadata": {},
   "outputs": [
    {
     "data": {
      "image/png": "[encoded data removed]",
      "text/plain": [
       "<Figure size 1000x500 with 1 Axes>"
      ]
     },
     "metadata": {},
     "output_type": "display_data"
    }
   ],
   "source": [
    "predict_vs_actual_data(actual_data='actual_data',predicted_data='predicted_data',dataframe=lassodf)"
   ]
  },
  {
   "cell_type": "code",
   "execution_count": null,
   "id": "958a275a",
   "metadata": {},
   "outputs": [],
   "source": []
  }
 ],
 "metadata": {
  "kernelspec": {
   "display_name": "Python 3 (ipykernel)",
   "language": "python",
   "name": "python3"
  },
  "language_info": {
   "codemirror_mode": {
    "name": "ipython",
    "version": 3
   },
   "file_extension": ".py",
   "mimetype": "text/x-python",
   "name": "python",
   "nbconvert_exporter": "python",
   "pygments_lexer": "ipython3",
   "version": "3.9.13"
  }
 },
 "nbformat": 4,
 "nbformat_minor": 5
}
